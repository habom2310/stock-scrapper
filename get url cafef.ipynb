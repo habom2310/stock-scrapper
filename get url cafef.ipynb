{
 "cells": [
  {
   "cell_type": "code",
   "execution_count": 39,
   "metadata": {},
   "outputs": [],
   "source": [
    "import bs4\n",
    "import requests\n",
    "from tqdm import tqdm"
   ]
  },
  {
   "cell_type": "code",
   "execution_count": 10,
   "metadata": {},
   "outputs": [],
   "source": [
    "url = \"https://s.cafef.vn/du-lieu-doanh-nghiep.chn\"\n",
    "page = requests.get(url)"
   ]
  },
  {
   "cell_type": "code",
   "execution_count": 12,
   "metadata": {},
   "outputs": [
    {
     "data": {
      "text/plain": [
       "'<!DOCTYPE html PUBLIC \"-//W3C//DTD XHTML 1.0 Transitional//EN\" \"http://www.w3.org/TR/xhtml1/DTD/xhtml1-transitional.dtd\">\\r\\n<html xmlns=\"http://www.w3.org/1999/xhtml\" xmlns:fb=\"http://www.facebook.com/2008/fbml\" xmlns:og=\"http://ogp.me/ns#\">\\r\\n<head id=\"ctl00_Head1\"><title>\\r\\n\\tDanh sách doanh nghiệp niêm yết, đại chúng, công ty chứng khoán | CafeF.vn\\r\\n</title><meta id=\"ctl00_News_Keywords\" name=\"news_keywords\" content=\"doanh nghiệp, niêm yết, đại chúng, công ty niêm yết, công ty đại chúng, ngân hàng, công ty chứng khoán, công ty quản lý quỹ\" /><meta http-equiv=\"Content-Security-Policy\" content=\"upgrade-insecure-requests\" /><meta id=\"ctl00_description\" name=\"Description\" content=\"Danh sách doanh nghiệp niêm yết, công ty đại chúng, ngân hàng, bảo hiểm, công ty chứng khoán, công ty quản lý quỹ\" /><link href=\"http://cafef3.mediacdn.vn/v4/Style/stylev2.css\" rel=\"stylesheet\" /><link rel=\"stylesheet\" type=\"text/css\" href=\"http://cafef3.mediacdn.vn/v2/styles/stylesv3.20160226.css\" /><link href=\"http://cafef3.mediacdn.vn/v4/Style/header.min.1.3.css\" rel=\"stylesheet\" />   \\r\\n    <!--[if lte IE 6]><link rel=\"stylesheet\" type=\"text/css\" href=\"http://cafef3.mediacdn.vn/images/v3/ie618112013.css\" /><![endif]-->\\r\\n    <!--[if IE 7]><link rel=\"stylesheet\" type=\"text/css\" href=\"http://cafef3.mediacdn.vn/images/v3/ie718112013.css\" /><![endif]-->\\r\\n    <link rel=\"stylesheet\" type=\"text/css\" href=\"http://cafef3.mediacdn.vn/v2/styles/solieu.2014.11.21.css\" /><link href=\"http://cafef3.mediacdn.vn/mobile/m/styles/jquery-ui.css\" rel=\"stylesheet\" type=\"text/css\" />\\r\\n    <!--[if lte IE 7]><style type=\"text/css\">#data-title-bar li span {display: none;}</style><![endif]-->\\r\\n    <link rel=\"shortcut icon\" href=\"http://cafef3.mediacdn.vn/v2/images/favicon.ico\" />\\r\\n    <script type=\"text/javascript\">var servertime = parseFloat(\\'180807\\'); var _symbol = \\'\\'; var domain = \"\"; var rewrite = true;</script>\\r\\n    <script src=\\'http://cafef3.mediacdn.vn/v2/kby/f1106585-08ee-4e16-b662-77142e30f599/kby.js\\' type=\"text/javascript\"></script>   \\r\\n    <script src=\"http://cafef3.mediacdn.vn/js/jquery-1.7.2.min.js\" type=\"text/javascript\"></script>\\r\\n    <script type=\"text/javascript\" src=\"http://cafef3.mediacdn.vn/v2/scripts/initSearchBox.js\"></script>\\r\\n    <script type=\"text/javascript\" src=\"http://cafef3.mediacdn.vn/v4/scripts/stock.min.1.4.js\"></script>\\r\\n    <script type=\"text/javascript\" src=\"http://mingid.vcmedia.vn/js/mingid_core.js\"></script>\\r\\n    <script src=\"http://cafef3.mediacdn.vn/v2/scripts/cafef.20170116.js\" type=\"text/javascript\"></script>\\r\\n    <script type=\"text/javascript\" src=\"http://cafef3.mediacdn.vn/v2/scripts/jquery.tools.min.js\"></script>\\r\\n    <script type=\"text/javascript\" src=\"http://cafef3.mediacdn.vn/v2/scripts/jquery-ui.js\"></script>\\r\\n    <script type=\"text/javascript\" src=\"http://cafef3.mediacdn.vn/v2/scripts/compatibilityv3.js\"></script>\\r\\n    <script type=\"text/javascript\" src=\"http://cafef3.mediacdn.vn/v2/scripts/inlinestockpage.20120816.js\"></script>\\r\\n    <script type=\"text/javascript\" src=\"http://cafef3.mediacdn.vn/v2/scripts/slimScroll.js\"></script>\\r\\n    <!--[if lte IE 6]><script type=\"text/javascript\" src=\"http://cafef3.mediacdn.vn/v2/ie/iepngfix_tilebg.js\"></script><![endif]-->    \\r\\n    <!-- Begin comScore Tag -->\\r\\n    <script>\\r\\n        var _comscore = _comscore || [];\\r\\n        _comscore.push({ c1: \"2\", c2: \"17793284\" });\\r\\n        (function () {\\r\\n            var s = document.createElement(\"script\"), el = document.getElementsByTagName(\"script\")[0]; s.async = true;\\r\\n            s.src = (document.location.protocol == \"https:\" ? \"https://sb\" : \"http://b\") + \".scorecardresearch.com/beacon.js\";\\r\\n            el.parentNode.insertBefore(s, el);\\r\\n        })();\\r\\n    </script>\\r\\n    <!-- End comScore Tag -->\\r\\n\\r\\n <script>\\r\\n(function (i, s, o, g, r, a, m) {\\r\\ni[\\'GoogleAnalyticsObject\\'] = r; i[r] = i[r] || function () {\\r\\n(i[r].q = i[r].q || []).push(arguments)\\r\\n}, i[r].l = 1 * new Date(); a = s.createElement(o),\\r\\nm = s.getElementsByTagName(o)[0]; a.async = 1; a.src = g; m.parentNode.insertBefore(a, m)\\r\\n})(window, document, \\'script\\', \\'//www.google-analytics.com/analytics.js\\', \\'ga\\');\\r\\n\\r\\nga(\\'create\\', \\'UA-34575478-39\\', \\'auto\\');\\r\\nga(\\'send\\', \\'pageview\\');\\r\\n\\r\\nga(\\'create\\', \\'UA-34575478-17\\', \\'auto\\', { \\'name\\': \\'pagecafef\\' });\\r\\nga(\\'pagecafef.send\\', \\'pageview\\');\\r\\n</script>\\r\\n   <script type=\\'text/javascript\\' src=\"//media1.admicro.vn/core/adm_tracking.js\"></script>\\r\\n<link rel=\"canonical\" href=\"http://s.cafef.vn/du-lieu-doanh-nghiep.chn\" /><link rel=\"alternate\" href=\"http://m.cafef.vn/du-lieu-doanh-nghiep.chn\" /></head>\\r\\n<body style=\"background-color:#fff;\">\\r\\n<script type=\"text/javascript\">\\r\\n/*    (function() {\\r\\n        var em = document.createElement(\\'script\\'); em.type = \\'text/javascript\\'; em.async = true;\\r\\n        em.src = (\\'https:\\' == document.location.protocol ? \\'https://vn-ssl\\' : \\'http://vn-cdn\\') + \\'.effectivemeasure.net/em.js\\';\\r\\n        var s = document.getElementsByTagName(\\'script\\')[0]; s.parentNode.insertBefore(em, s);\\r\\n    })();*/\\r\\n</script>\\r\\n\\r\\n\\r\\n    <a id=\"top\"></a>\\r\\n    <form name=\"aspnetForm\" method=\"post\" action=\"/du-lieu-doanh-nghiep.chn\" id=\"aspnetForm\">\\r\\n<div>\\r\\n<input type=\"hidden\" name=\"__VIEWSTATE\" id=\"__VIEWSTATE\" value=\"/wEPDwULLTEwMjM2NzgyODhkZJ6WkiIzxJWQoHDkNSsS33MNc2P5\" />\\r\\n</div>\\r\\n\\r\\n    <!-- //top -->\\r\\n    \\r\\n<div class=\"header clearfix\">\\r\\n    <div class=\"header_logo\">\\r\\n        <div class=\"wp1040 relative\">\\r\\n            <div class=\"logo\">\\r\\n                <a href=\"/\" class=\"sprite\" title=\"Kênh thông tin kinh tế - tài chính Việt Nam\"></a>\\r\\n            </div>\\r\\n            \\r\\n            <a href=\"http://comment.v1.vietid.net/comments?app_key=09e776cfdcf813daf939719ded62d915&content_url=http://cafef.vn/news-20151222155837958.chn&news_title=TSVlMSViYiU5ZGkrYiVlMSViYSVhMW4rJWM0JTkxJWUxJWJiJThkYyt0ciVlMSViYSVhM2krbmdoaSVlMSViYiU4N20rdiVjMyVhMCtnJWMzJWIzcCslYzMlYmQrdiVlMSViYiU4MStnaWFvK2RpJWUxJWJiJTg3bittJWUxJWJiJTliaStjaG8rdHJhbmcrdGluK3QlYzMlYTBpK2NoJWMzJWFkbmgrQ2FmZUY=&num_count=5&debugcache=1&min=0&scroll=0&http_referer=http://cafef.vn/thoi-su/moi-ban-doc-trai-nghiem-va-gop-y-ve-giao-dien-moi-cho-trang-tin-tai-chinh-cafef-20151222155837958.chn&verify=1&verify_flag=53a1b739f4a5d3c8bd94f458d21f8380&funny_flag=0&height=238&iframe_comment_id=mingid_comment_iframe&comment_flag=0&news_url_short=0&real_time=undefined&is_hidden_comment=0\" target=\"_blank\" rel=\"nofollow\"\\r\\n                class=\"fancybox fancybox.iframe fl\"\\r\\n                id=\"OpenGopYF\" style=\"margin-left: 74px;\">\\r\\n                <i class=\"moibandocgopy sprite\"></i>\\r\\n            </a>\\r\\n            <div class=\"time\" id=\"datetime\" style=\"display: none;\">&nbsp;</div>\\r\\n            \\r\\n<div class=\"mack\" id=\"CafeF_StockSymbolContainer\">\\r\\n    <div id=\"macktheodoi\" class=\"inner\" data-type=\"stock-container\"></div>\\r\\n</div>\\r\\n        </div>\\r\\n    </div>\\r\\n    <div class=\"header_new clearfix\">\\r\\n        <div class=\"wp1040\">\\r\\n            <div class=\"menupage\">\\r\\n                <a class=\"sprite top isent\" href=\"http://cafef.vn/gui-tin-nhanh.chn\" title=\"Gửi tin nhanh\"><span class=\"icon_sent\"></span>Gửi tin nhanh</a>\\r\\n                <a class=\"idautu\" href=\"http://liveboard.cafef.vn\" target=\"_blank\" rel=\"nofollow\" title=\"Bản giá điện tử\"><span class=\"icon_sent sprite\"></span>Bảng giá điện tử</a>\\r\\n                <a class=\"sprite end itable\" target=\"_blank\" rel=\"nofollow\" href=\"http://s.cafef.vn/danh-muc-dau-tu.chn\" title=\"Danh mục đầu tư\"><span class=\"icon_sent\"></span>Danh mục đầu tư</a>\\r\\n                <div id=\"liuseraccount\" style=\"display: none;\">\\r\\n                    <ul style=\"width: 165px;\" id=\"ulAccount\">\\r\\n                        <li>\\r\\n                            <a style=\"font-weight: normal;\" onclick=\"vietidlogout()\" href=\"javascript:void()\" title=\"Thoát khỏi danh mục\">Thoát</a></li>\\r\\n                        <li>\\r\\n                            <a style=\"font-weight: normal;\" href=\"/thay-doi-mat-khau.chn\" title=\"Đổi mật khẩu\">Đổi mật khẩu</a></li>\\r\\n                    </ul>\\r\\n                    <div id=\"useraccount\"></div>\\r\\n                </div>\\r\\n            </div>\\r\\n            \\r\\n<div class=\"tinmoi\">\\r\\n    <div class=\"title_box\">\\r\\n        <p class=\"title_left\">TIN MỚI!</p>\\r\\n        <a href=\"/doc-nhanh.chn\" title=\"đọc nhanh\" class=\"doctinnhanh\">Đọc nhanh >></a>\\r\\n    </div>\\r\\n    <div class=\"clearfix\"></div>\\r\\n    <div class=\"list_news\">\\r\\n        <div id=\"listNewHeader\" dmtb=\"4\">\\r\\n            <ul>\\r\\n\\r\\n            </ul>\\r\\n\\r\\n        </div>\\r\\n    </div>\\r\\n</div>\\r\\n\\r\\n\\r\\n            \\r\\n<div class=\"bieudo_header\">\\r\\n    <div class=\"bieudo1\">\\r\\n        <p class=\"index_ck\">\\r\\n            VN-Index:\\r\\n            <b class=\"idx_1\"></b><span class=\"idc_1\"></span><span class=\"idp_1\"></span>\\r\\n        </p>\\r\\n        <p class=\"gia_ck\">GTGD: <span class=\"idv_1\"></span>tỷ VNĐ</p>\\r\\n        <div id=\"headerchart1\" class=\"img_bieudo\"></div>\\r\\n    </div>\\r\\n    <div class=\"bieudo2\">\\r\\n        <p class=\"index_ck\">\\r\\n            HNX-Index:\\r\\n            <b class=\"idx_2\"></b><span class=\"idc_2\"></span><span class=\"idp_2\"></span>\\r\\n        </p>\\r\\n        <p class=\"gia_ck\">GTGD: <span class=\"idv_2\"></span>tỷ VNĐ</p>\\r\\n        <div id=\"headerchart2\" class=\"img_bieudo\"></div>\\r\\n    </div>\\r\\n</div>\\r\\n\\r\\n<script type=\"text/javascript\">\\r\\n    var currentTime = parseFloat(\\'180807\\');\\r\\n</script>\\r\\n\\r\\n\\r\\n\\r\\n\\r\\n<script type=\"text/javascript\">\\r\\n\\r\\n\\r\\n    function LoadUser2() { convertCookie(); var userName = getCookie(\\'cafef.user.v2\\', \\'name\\'); if (userName == undefined) { userName = \\'\\'; }; if (userName.indexOf(\\'&name=\\') > 0) { userName = userName.substr(userName.indexOf(\\'&name=\\') + 6, 50); if (userName.indexOf(\\'&\\') > 0) { userName = userName.substr(0, userName.indexOf(\\'&\\')); } } if (userName.indexOf(\\'&\\') >= 0) { userName = \\'\\'; } if (userName != null && userName != \\'\\' && userName != \\'undefined\\') { $(\"#liuseraccount\").show(); $(\"#useraccount\").html(\\'<a href=\"http://cafef.vn/danh-muc-dau-tu.chn\" style=\"color:red; font-weight:bold\">&nbsp;\\' + userName + \\'&nbsp;</a>\\'); $.ajax({ url: \"/ajax/user.aspx\", success: function (data) { if (data == \\'\\' || data == \\'0\\') { minglogin(true); } } }); closeMingNote(false); } else { displayMingNote(); $(\\'#danhmucdautu\\').click(function (e) { e.preventDefault(); minglogin(false); }); } }\\r\\n    \\r\\n    var isTrading = true;\\r\\n\\r\\n    LoadUser2();\\r\\n   \\r\\n\\r\\n    var lastTimeHead = \\'2020/12/15 18:08:07\\';\\r\\n    function vietidlogout() {\\r\\n        openMyModal(\\'http://v1.vietid.net/OauthServerV2/logout?app_key=09e776cfdcf813daf939719ded62d915&call_back=http://s.cafef.vn/pages/signout.aspx\\', 510, 470, false);\\r\\n        return false;\\r\\n    }\\r\\n    $(function () {\\r\\n        $(\"#liuseraccount\").mouseover(function () {\\r\\n            $(\"#ulAccount\").css(\"display\", \"block\");\\r\\n        });\\r\\n        $(\"#liuseraccount\").mouseout(function () {\\r\\n            $(\"#ulAccount\").css(\"display\", \"none\");\\r\\n        });\\r\\n    });\\r\\n</script>\\r\\n\\r\\n        </div>\\r\\n    </div>\\r\\n    <div class=\"clearfix\"></div>\\r\\n    <div class=\"menucategory menuheader clearfix\" id=\"menu_wrap\">\\r\\n        <div class=\"wp1040 relative\">\\r\\n            <ul>\\r\\n                <li class=\"bt_home active\"><a href=\"//cafef.vn\" title=\"Trang chủ\" class=\"sprite\"></a></li>\\r\\n                <li class=\"li_left\"><a href=\"//cafef.vn/thoi-su.chn\" title=\"THỜI SỰ\">THỜI SỰ</a></li>\\r\\n                <li><a href=\"//cafef.vn/thi-truong-chung-khoan.chn\" title=\"CHỨNG KHOÁN\">CHỨNG KHOÁN</a></li>\\r\\n                <li><a href=\"//cafef.vn/bat-dong-san.chn\" title=\"BẤT ĐỘNG SẢN\">BẤT ĐỘNG SẢN</a></li>\\r\\n                <li><a href=\"//cafef.vn/doanh-nghiep.chn\" title=\"DOANH NGHIỆP\">DOANH NGHIỆP</a></li>\\r\\n                <li><a href=\"//cafef.vn/tai-chinh-ngan-hang.chn\" title=\"NGÂN HÀNG\">NGÂN HÀNG</a></li>\\r\\n                <li><a href=\"//cafef.vn/tai-chinh-quoc-te.chn\" title=\"TÀI CHÍNH QUỐC TẾ\">TÀI CHÍNH QUỐC TẾ</a></li>\\r\\n                <li><a href=\"//cafef.vn/vi-mo-dau-tu.chn\" title=\"VĨ MÔ\">VĨ MÔ</a></li>\\r\\n                <li><a href=\"//cafef.vn/song.chn\" title=\"SỐNG\">SỐNG</a></li>\\r\\n                <li><a href=\"//cafef.vn/hang-hoa-nguyen-lieu.chn\" title=\"HÀNG HÓA\">HÀNG HÓA</a></li>\\r\\n                \\r\\n                <li class=\"menucategory_right\"><a href=\"http://s.cafef.vn/top/ceo.chn\" title=\"Top 200\">Top 200</a></li>\\r\\n                <li class=\"menucategory_right\"><a href=\"http://s.cafef.vn/du-lieu.chn\" title=\"Dữ liệu\">Dữ liệu</a></li>\\r\\n\\r\\n            </ul>\\r\\n        </div>\\r\\n    </div>\\r\\n</div>\\r\\n         \\r\\n    <!-- //endtop -->\\r\\n    <div id=\"pagewrap\">\\r\\n        <div id=\"container\" class=\"clearfix\">\\r\\n            \\r\\n            \\r\\n            <div style=\"overflow: hidden; padding-bottom: 10px\">\\r\\n\\t\\t\\t\\t<div style=\"overflow: hidden;\">\\r\\n\\t\\t\\t\\t   <script type=\"text/javascript\" src=\"https://media1.admicro.vn/core/admcore.js\" async=\"async\"></script>\\r\\n\\t\\t\\t\\t\\t<script type=\"text/javascript\">\\r\\n\\t\\t\\t\\t\\tvar admicroAD = admicroAD || {};\\r\\n\\t\\t\\t\\t\\tadmicroAD.unit = admicroAD.unit || [];\\r\\n\\t\\t\\t\\t\\t</script>\\r\\n\\t\\t\\t\\t\\t<div id=\"admzone96\"></div>\\r\\n\\t\\t\\t\\t\\t<script>\\r\\n\\t\\t\\t\\t\\t\\tadmicroAD.unit.push(function () { admicroAD.show(\\'admzone96\\') });\\r\\n\\t\\t\\t\\t\\t</script>\\r\\n\\t\\t\\t\\t</div>\\r\\n            </div>\\r\\n            <div class=\"botop\">\\r\\n                <div>\\r\\n                    \\r\\n                </div>\\r\\n                <div class=\"contentMain\" style=\"border-top:none;\">\\r\\n                    \\r\\n    <style type=\"text/css\">#dhtmltooltip{z-index:10000;}</style>\\r\\n<link rel=\"stylesheet\" type=\"text/css\" href=\"http://cafef3.mediacdn.vn/v2/style/datahome.v3.css\" />\\r\\n<div id=\"data-front\">\\r\\n    \\r\\n<style type=\"text/css\">\\r\\n    .menulevel2{ width: 100%; background-color: #ebebeb; height:25px; }\\r\\n    .menulevel2 ul{ margin: 0; padding: 0; padding-top:5px; padding-left:10px; float: left;}\\r\\n    .menulevel2 ul li{color:Gray; float: left; font-size: 12px; height: 30px; line-height: 20px; list-style: square none inside; padding-left: 10px; margin-right: 5px; vertical-align: middle; }    \\r\\n    .menulevel2 ul li a:hover{color: #c00;}\\r\\n     .current {color: #c00;}     \\r\\n</style>\\r\\n<link href=\"http://cafef3.mediacdn.vn/v2/style/dropdown.css\" media=\"all\" rel=\"stylesheet\" type=\"text/css\" />\\r\\n<div id=\"data-title-bar\">\\r\\n    <a name=\"data\" id=\"data-anchor\" style=\"position:relative; top: -80px;\"></a>\\r\\n    <ul class=\"dropdown\"><li ><span class=\"left\"></span><span class=\"right\"></span><h4><a href=\"/du-lieu.chn#data\">Toàn cảnh thị trường</a></h4></li>\\r\\n    <li ><span class=\"left\"></span><span class=\"right\"></span><h4><a href=\"/TraCuuLichSu2/3/HOSE/today.chn#data\">Giao dịch NN</a></h4></li>\\r\\n    <li ><span class=\"left\"></span><span class=\"right\"></span><h4><a href=\"/Lich-su-giao-dich-VNINDEX-1.chn#data\">Dữ liệu lịch sử</a></h4></li>\\r\\n    <li ><span class=\"left\"></span><span class=\"right\"></span><h4><a href=\"/thong-ke.chn#data\">Thống kê biến động giá</a></h4></li>\\r\\n    \\r\\n    <li class=\"active\"><span class=\"left\"></span><span class=\"right\"></span><h4>\\r\\n        <a href=\"/du-lieu-doanh-nghiep.chn#data\">Dữ liệu doanh nghiệp</a></h4>\\r\\n        \\r\\n        <ul style=\"border-top: solid 5px #a2a2a2; margin-top: 0;\">            \\r\\n            <li style=\"\"><a href=\"/du-lieu-doanh-nghiep.chn\" style=\"margin-left:5px;text-align:left;\">Hồ sơ các công ty niêm yết</a></li>\\r\\n            <li><a href=\"/danh-sach-cac-quy-dau-tu.chn\" style=\"margin-left:5px;text-align:left;\">Hồ sơ quỹ</a></li>\\r\\n            <li><a href=\"/danh-sach-cac-ngan-hang.chn\" style=\"margin-left:5px;text-align:left;\">Hồ sơ ngân hàng</a></li>\\r\\n            <li><a href=\"/danh-sach-cac-cong-ty-chung-khoan.chn\" style=\"margin-left:5px;text-align:left;\">Hồ sơ chứng khoán</a></li>\\r\\n            <li><a href=\"/danh-sach-tap-doan-doanh-nghiep-lon.chn\" style=\"margin-left:5px;text-align:left;\">Tập đoàn - Doanh nghiệp lớn</a></li>\\r\\n        </ul>\\r\\n        \\r\\n    </li>\\r\\n    <li ><span class=\"left\"></span><span class=\"right\"></span><h4><a style=\"cursor:pointer;\">Công cụ PTKT</a></h4>\\r\\n        <ul style=\"border-top: solid 5px #a2a2a2; margin-top: 0;\">\\r\\n            \\r\\n            \\r\\n            \\r\\n            <li style=\"\"><a href=\"/Thi-truong-niem-yet/Bieu-do-ky-thuat/EPS-VNINDEX-2.chn#data\" style=\"margin-left:5px;text-align:left;\" target=\"_blank\">Đồ thị PTKT</a></li>\\r\\n            <li><a href=\"/du-lieu/download.chn#data\" style=\"margin-left:5px;text-align:left;\">Tải dữ liệu Amibroker</a></li>\\r\\n        </ul>\\r\\n    </li>\\r\\n    \\r\\n    \\r\\n    \\r\\n<li ><span class=\"left\"></span><span class=\"right\"></span><h4><a href=\"/screener.aspx#data\">Bộ lọc cổ phiếu</a></h4></li> \\r\\n    <li class=\"last\"><span class=\"left\"></span><span class=\"right\"></span><h4>\\r\\n        <a href=\"/margin/symbol.chn#data\">Tỷ lệ ký quỹ</a></h4>\\r\\n    </li>\\r\\n    </ul> \\r\\n</div>\\r\\n\\r\\n<script type=\"text/javascript\">\\r\\n    var __hash = window.location.hash; $(document).ready(function() { if (__hash == \\'#data\\') { var destination = document.getElementById(\"data-anchor\").offsetTop; $(\"html:not(:animated),body:not(:animated)\").animate({ scrollTop: destination }, 10, function() { }); } });\\r\\n</script>\\r\\n\\r\\n    \\r\\n<div class=\"wrap_sub_menu clearfix\">\\r\\n<ul id=\"sub_menu_dn\">\\r\\n    <li>\\r\\n        \\r\\n            <h2><a href=\"/du-lieu-doanh-nghiep.chn\" title=\"Hồ sơ các công ty niêm yết\"  class=\"active\">Hồ sơ các công ty niêm yết</a></h2>\\r\\n        \\r\\n    </li>\\r\\n    \\r\\n    <li>\\r\\n        \\r\\n            <h2><a href=\"/danh-sach-cac-quy-dau-tu.chn\" title=\"Hồ sơ quỹ\">Hồ sơ quỹ</a></h2>\\r\\n        \\r\\n    </li>\\r\\n    \\r\\n    <li>\\r\\n        \\r\\n            <h2><a href=\"/danh-sach-cac-ngan-hang.chn\" title=\"Hồ sơ ngân hàng\">Hồ sơ ngân hàng</a></h2>\\r\\n        \\r\\n    </li>\\r\\n    <li>\\r\\n        \\r\\n            <h2><a href=\"/danh-sach-cac-cong-ty-chung-khoan.chn\" title=\"Hồ sơ chứng khoán\">Hồ sơ chứng khoán</a></h2>\\r\\n        \\r\\n    </li>\\r\\n     <li>\\r\\n        \\r\\n            <h2><a href=\"/danh-sach-tap-doan-doanh-nghiep-lon.chn\" title=\"Tập đoàn - Doanh nghiệp lớn\">Tập đoàn - Doanh nghiệp lớn</a></h2>\\r\\n        \\r\\n    </li>\\r\\n    \\r\\n</ul>\\r\\n</div>\\r\\n    \\r\\n    <div style=\"float:left;display:none;\" class=\"breadcrumb\">\\r\\n        <div itemtype=\"http://data-vocabulary.org/Breadcrumb\" itemscope=\"\">\\r\\n            <a itemprop=\"url\" href=\"http://cafef.vn\"><span itemprop=\"title\">CafeF.vn</span></a> &gt;\\r\\n        </div>\\r\\n\\r\\n        <div itemtype=\\'http://data-vocabulary.org/Breadcrumb\\' itemscope=\\'\\'>\\r\\n            <a href=\\'http://s.cafef.vn/du-lieu.chn\\' title=\\'Dữ liệu\\' itemprop=\\'url\\'><span itemprop=\\'title\\'>Dữ liệu</span></a>\\r\\n        </div>\\r\\n        <div itemtype=\\'http://data-vocabulary.org/Breadcrumb\\' itemscope=\\'\\'>\\r\\n            <a href=\\'http://s.cafef.vn/du-lieu-doanh-nghiep.chn\\' title=\\'Doanh nghiệp\\' itemprop=\\'url\\'><span itemprop=\\'title\\'>Doanh nghiệp</span></a>\\r\\n        </div>\\r\\n    </div>\\r\\n    <div style=\"margin-top: 8px; text-align: left;width:100%;\">\\r\\n        <h1 title=\"Dữ liệu công ty niêm yết trên thị trường chứng khoán Việt Nam\">\\r\\n            <div id=\"CafeF_DSCongtyNiemyet\">\\r\\n            </div>\\r\\n        </h1>\\r\\n    </div>\\r\\n</div>\\r\\n<script type=\"text/javascript\" src=\"https://cafef3.mediacdn.vn/v4/scripts/DANH_SACH_CONG_TY_NIEM_YET.20200217.js\"></script>\\r\\n<input type=\"hidden\" id=\"Log_AssignValue_CatTitle\" value=\"ThiTruongNiemYet\" />\\r\\n<script type=\"text/javascript\">$(\\'#CafeF_DSCongtyNiemyet table tr:first\\').css(\\'display\\',\\'none\\');</script>\\r\\n\\r\\n                    <div id=\"ctl00_labelBottom\" class=\"totop\" style=\"text-align: center;border: none;color: #999;\"><b>(*) Lưu ý:</b> Dữ liệu được  tổng hợp từ các nguồn đáng tin cậy, có giá trị tham khảo với các nhà đầu tư.<br />Tuy nhiên, chúng tôi không chịu trách nhiệm trước mọi rủi ro nào do sử dụng các dữ liệu này.</div>\\r\\n                    <div class=\"clearfix\" style=\"float:right\">\\r\\n                        <em>Theo Trí thức trẻ</em>\\r\\n                    </div>\\r\\n                    <div style=\"height: 0px;clear:both;\" id=\"adm_sticky_footer\"></div>\\r\\n                    \\r\\n                    <div class=\"doitac clearfix\">\\r\\n                        \\r\\n                    </div>\\r\\n                    <div style=\"background-color: #fff; padding-top: 10px; margin: 0 10px\">\\r\\n                        \\r\\n\\t\\t\\t\\t<div style=\"overflow: hidden;\">\\r\\n\\t\\t\\t\\t   <script type=\"text/javascript\" src=\"https://media1.admicro.vn/core/admcore.js\" async=\"async\"></script>\\r\\n\\t\\t\\t\\t\\t<script type=\"text/javascript\">\\r\\n\\t\\t\\t\\t\\tvar admicroAD = admicroAD || {};\\r\\n\\t\\t\\t\\t\\tadmicroAD.unit = admicroAD.unit || [];\\r\\n\\t\\t\\t\\t\\t</script>\\r\\n\\t\\t\\t\\t\\t<div id=\"admzone100\"></div>\\r\\n\\t\\t\\t\\t\\t<script>\\r\\n\\t\\t\\t\\t\\t\\tadmicroAD.unit.push(function () { admicroAD.show(\\'admzone100\\') });\\r\\n\\t\\t\\t\\t\\t</script>\\r\\n\\t\\t\\t\\t</div>\\r\\n\\t\\r\\n<div id=\"footerv22\">\\r\\n\\r\\n<div class=\"adv_full_bottom clearfix\">\\r\\n</div>\\r\\n    <div class=\"clearfix\"></div>\\r\\n\\r\\n    <div class=\"menucategory menuheader clearfix\" id=\"menu_wrap\">\\r\\n        <div class=\"wp1040 relative\">\\r\\n            <ul>\\r\\n                <li class=\"bt_home active\"><a href=\"//cafef.vn\" title=\"Trang chủ\" class=\"sprite\"></a></li>\\r\\n                <li class=\"li_left\"><a href=\"//cafef.vn/thoi-su.chn\" title=\"THỜI SỰ\">THỜI SỰ</a></li>\\r\\n                <li><a href=\"//cafef.vn/thi-truong-chung-khoan.chn\" title=\"CHỨNG KHOÁN\">CHỨNG KHOÁN</a></li>\\r\\n                <li><a href=\"/cafef.vn/bat-dong-san.chn\" title=\"BẤT ĐỘNG SẢN\">BẤT ĐỘNG SẢN</a></li>\\r\\n                <li><a href=\"//cafef.vn/doanh-nghiep.chn\" title=\"DOANH NGHIỆP\">DOANH NGHIỆP</a></li>\\r\\n                <li><a href=\"//cafef.vn/tai-chinh-ngan-hang.chn\" title=\"NGÂN HÀNG\">NGÂN HÀNG</a></li>\\r\\n                <li><a href=\"//cafef.vn/tai-chinh-quoc-te.chn\" title=\"TÀI CHÍNH QUỐC TẾ\">TÀI CHÍNH QUỐC TẾ</a></li>\\r\\n                <li><a href=\"//cafef.vn/vi-mo-dau-tu.chn\" title=\"VĨ MÔ\">VĨ MÔ</a></li>\\r\\n                <li><a href=\"//cafef.vn/song.chn\" title=\"SỐNG\">SỐNG</a></li>\\r\\n                <li><a href=\"//cafef.vn/hang-hoa-nguyen-lieu.chn\" title=\"HÀNG HÓA\">HÀNG HÓA</a></li>               \\r\\n                <li class=\"menucategory_right\"><a href=\"http://s.cafef.vn/top/ceo.chn\" title=\"Top 200\">Top 200</a></li>\\r\\n                <li class=\"menucategory_right\"><a href=\"http://s.cafef.vn/du-lieu.chn\" title=\"Dữ liệu\">Dữ liệu</a></li>\\r\\n            </ul>\\r\\n        </div>\\r\\n    </div>\\r\\n\\r\\n<div class=\"clearfix\"></div>\\r\\n<div class=\"wrap clearfix\">\\r\\n    <div class=\"ft-cp\" style=\"border: none; width: 360px; padding-left: 0;\">\\r\\n        <a href=\"http://www.vccorp.vn\" title=\"Công ty Cổ phần truyền thông Việt Nam - VCCorp\" rel=\"nofollow\" target=\"_blank\"><img align=\"left\" width=\"130px\" style=\"padding-right: 10px;\" src=\"http://adi.vcmedia.vn/logo/runbyvcc.e.png\" alt=\"VCCorp\" border=\"0\"/></a> \\r\\n        <strong>Copyright 2007</strong> - Công ty Cổ phần VCCorp.<br />\\r\\n        Tầng 17, 19, 20, 21 Tòa nhà Center Building - Hapulico Complex<br />\\r\\n        Số 1 Nguyễn Huy Tưởng, Thanh Xuân, Hà Nội.<br />\\r\\n        Giấy phép thiết lập trang thông tin điện tử tổng hợp trên internet số 1084/GP-STTTT do Sở Thông tin và Truyền thông Hà Nội cấp ngày 16 tháng 4 năm 2014.\\r\\n    </div>\\r\\n    <div class=\"ft-info\" style=\"width:350px;\">\\r\\n        Ban biên tập CafeF, Tầng 21, tòa nhà Center Building.<br />\\r\\n        Số 1 Nguyễn Huy Tưởng, Thanh Xuân, Hà Nội.<br />\\r\\n        Điện thoại: 04 7309 5555 <span>Máy lẻ 41292</span>. Fax: 04-39744082<br />\\r\\n        Email: <a href=\"mailto:info@cafef.vn\">info@cafef.vn</a><br />\\r\\n        Ghi rõ nguồn \"CafeF\" khi phát hành lại thông tin từ kênh thông tin này.<br />&nbsp;        \\r\\n    </div>\\r\\n    <div class=\"ft-qc\" style=\"padding-left: 20px; border-left: solid 1px #ccc; width: 200px;\">\\r\\n        <b>Liên hệ quảng cáo: </b>Ms. Hương<br />\\r\\n        Mobile: 0934 252 233<br />\\r\\n        Email: <a href=\"mailto:doanhnghiep@admicro.vn\">doanhnghiep@admicro.vn</a><br />\\r\\n        <b>Hỗ trợ &amp; CSKH :</b> Ms. Thơm<br />\\r\\n        Mobile: 01268 269 779<br />&nbsp;\\r\\n    </div>\\r\\n</div>\\r\\n<input name=\"ctl00$UcFooter2$hdIP\" type=\"hidden\" id=\"ctl00_UcFooter2_hdIP\" />\\r\\n\\r\\n<script type=\"text/javascript\">    \\r\\n    GetDate();\\r\\n    setTimeout(\"GetDate()\",10000);\\r\\n    function popupPolicy() {\\r\\n        modalWindow.windowId = \"policyModal\";\\r\\n        modalWindow.width = 610;\\r\\n        modalWindow.height = 470;\\r\\n        modalWindow.force = null;\\r\\n        modalWindow.content = \"<div style=\\'background-color:#fff;padding: 20px;border: solid 1px green;\\'><p style=\\'font-weight:bold;margin-bottom: 10px;font-size: 130%;\\'>Thỏa thuận chia sẻ nội dung</p> <p style=\\'line-height: 20px;font-size: 110%;\\'>Các nội dung do VCCorp đại diện kinh doanh có thể được các báo, trang tin điện tử, website sử dụng đăng tải lại (trên nguyên tắc trích dẫn nguyên văn nội dung, ghi nguồn, tên tác giả đầy đủ), trừ khi có yêu cầu hoặc thỏa thuận riêng khác bằng văn bản giữa 2 bên. Điều đó cũng được hiểu là VCCorp cũng có quyền sử dụng đăng tải lại các nội dung từ các báo, trang tin điện tử, website có quan hệ chia sẻ theo nguyên tắc này.</p></div>\";\\r\\n        modalWindow.open();\\r\\n    }\\r\\n</script>\\r\\n<a href=\"javascript:void(0);\" style=\"float:left;padding-top:5px;color:#c00;\" onclick=\"popupPolicy();\">Thỏa thuận chia sẻ nội dung</a>\\r\\n<style type=\"text/css\">#seoshare li {float:right; margin-right:5px; text-transform:uppercase;}#seoshare li span{height: 21px; width:5px; background: url(http://cafef3.mediacdn.vn/v2/images/seoshare.png) top left no-repeat scroll; float:left;}#seoshare li span.right {background-position: -5px 0;float:right;} #seoshare a{background:url(http://cafef3.mediacdn.vn/v2/images/seoshare.png) repeat-x 0px -21px scroll; padding: 4px 3px 0 3px; float:left; height:17px; overflow:hidden; color:#000; font-size: 11px; font-weight:bold; text-align: center;}</style>\\r\\n<div id=\"seoshare\"><ul><li><span class=\"left\"></span><span class=\"right\"></span><a href=\"http://cafebiz.vn/\" title=\"CafeBiz - Thông tin kinh doanh - Doanh nhân\" target=\"_blank\">CafeBiz.vn</a></li><li><span class=\"left\"></span><span class=\"right\"></span><a href=\"http://sannhac.com/home\" title=\"SànNhạc.com\" target=\"_blank\">SanNhac.com</a></li><li><span class=\"left\"></span><span class=\"right\"></span><a href=\"http://afamily.vn/\" title=\"Kênh thông tin dành cho phụ nữ, đẹp, gia đình, giải trí, thời trang\" target=\"_blank\">aFamily.vn</a></li><li><span class=\"left\"></span><span class=\"right\"></span><a href=\"http://f319.com/home\" title=\"Thị trường chứng khoán - F319.com\" target=\"_blank\">F319</a></li></ul></div>\\r\\n    </div>\\r\\n                    </div>\\r\\n<script type=\"text/javascript\">    \\r\\n    function setCookie(cname, cvalue, exdays) {\\r\\n                                var d = new Date();\\r\\n                                d.setTime(d.getTime() + (exdays * 24 * 60 * 60 * 1000));\\r\\n                                var expires = \"expires=\" + d.toUTCString();\\r\\n                                document.cookie = cname + \"=\" + cvalue + \";\" + expires + \";path=/\";\\r\\n                            }\\r\\n </script>\\r\\n                </div>\\r\\n                <div class=\"bobottom\">\\r\\n                </div>\\r\\n            </div>\\r\\n        </div>\\r\\n        <!-- //Pagewrap background -->\\r\\n    </div>\\r\\n\\r\\n\\r\\n    <script type=\"text/javascript\">\\r\\n   \\r\\n        MenuActive(1000);\\r\\n        $(document).ready(function(e) {\\r\\n            if ($(\\'#content\\').height() > $(\\'#sidebar\\').height()) {\\r\\n                $(\\'#sidebar\\').css(\\'height\\', $(\\'#content\\').height() + \\'px\\');\\r\\n            }\\r\\n        });\\r\\n    </script>\\r\\n    <script src=\"http://cafef3.mediacdn.vn/v2/scripts/footer.js\" type=\"text/javascript\"></script>\\r\\n <script src=\"http://cafef3.mediacdn.vn/reporting/slog.js\"></script>\\r\\n     <script type=\"text/javascript\">\\r\\n     LogValue();\\r\\n         var _laq = _laq || [];\\r\\n         _laq.push([\\'_setApp\\', \\'LA-56744888-16\\']);\\r\\n         _laq.push([\\'_trackPageview\\']);\\r\\n         (function() {\\r\\n             var la = document.createElement(\\'script\\'); la.type = \\'text/javascript\\'; la.async = true;\\r\\n             la.src = \"http://logscafef.channelvn.net/scripts/log.js\";\\r\\n             var s = document.getElementsByTagName(\\'script\\')[0]; s.parentNode.insertBefore(la, s);\\r\\n         })();\\r\\n</script>\\r\\n\\r\\n<script>\\r\\n(function(w,d,s,l,i){w[l]=w[l]||[];w[l].push({\\'gtm.start\\':\\r\\nnew Date().getTime(),event:\\'gtm.js\\'});var f=d.getElementsByTagName(s)[0],\\r\\nj=d.createElement(s),dl=l!=\\'dataLayer\\'?\\'&l=\\'+l:\\'\\';j.async=true;j.src=\\r\\n\\'https://www.googletagmanager.com/gtm.js?id=\\'+i+dl;f.parentNode.insertBefore(j,f);\\r\\n})(window,document,\\'script\\',\\'dataLayer\\',\\'GTM-PMC2DK4\\');\\r\\n</script>\\r\\n\\r\\n\\r\\n    \\r\\n<div>\\r\\n\\r\\n\\t<input type=\"hidden\" name=\"__VIEWSTATEGENERATOR\" id=\"__VIEWSTATEGENERATOR\" value=\"23B61455\" />\\r\\n</div></form>    \\r\\n<script type=\"text/javascript\">    \\r\\n$(document).ready(function(){\\r\\n$(\"#back-top\").hide();\\r\\n$(function () {\\r\\n    $(window).scroll(function () {\\r\\n        if ($(this).scrollTop() > 500) {\\r\\n\\t        $(\\'#scroll_top\\').fadeIn();\\r\\n        } else {\\r\\n\\t        $(\\'#scroll_top\\').fadeOut();\\r\\n        }\\r\\n        if ($(this).scrollTop() > 210) {\\r\\n        $(\\'#menuv3\\').css(\"position\",\"fixed\").css(\"top\",\"0\").css(\"box-shadow\",\"0 2px 4px #333\");\\r\\n        }\\r\\n        else{\\r\\n            $(\\'#menuv3\\').css(\"position\",\"relative\").css(\"box-shadow\",\"none\");\\r\\n        }\\r\\n    });\\r\\n    $(\\'#scroll_top\\').click(function () {\\r\\n        $(\\'body,html\\').animate({scrollTop: 0}, 800);\\r\\n        return false;\\r\\n    });\\r\\n});\\r\\n});\\r\\n</script>\\r\\n<style type=\"text/css\">\\r\\n    #scroll_top {background: url(\"http://cafef3.mediacdn.vn/v2/images/scrollTop.png\") no-repeat scroll 0 0 transparent; cursor: pointer; display: none; height: 46px; opacity: 0.5; position: fixed; right: 10px; top: 80%; width: 46px; z-index: 999;}\\r\\n    #scroll_top:hover { opacity: 1; }\\r\\n    .Top3LinksForGoogleSearchResult{height:0px;overflow:hidden;}\\r\\n    .cattitle1 {padding: 10px 0px;font-size: 14px;text-transform: none;font-weight: bold;}\\r\\n</style>\\r\\n<div id=\"scroll_top\" style=\"display: none; \"></div>\\r\\n<div id=\"ctl00_Top3LinksForGoogleSearchResult\" class=\"Top3LinksForGoogleSearchResult\"></div>\\r\\n</body>\\r\\n</html>'"
      ]
     },
     "execution_count": 12,
     "metadata": {},
     "output_type": "execute_result"
    }
   ],
   "source": [
    "page.text"
   ]
  },
  {
   "cell_type": "code",
   "execution_count": 1,
   "metadata": {},
   "outputs": [],
   "source": [
    "from selenium import webdriver\n",
    "from selenium.webdriver.common.keys import Keys\n",
    "from selenium.webdriver.common.by import By\n",
    "\n",
    "driver = webdriver.Chrome(\"chromedriver_win32/chromedriver.exe\")\n",
    "# driver.get(url)"
   ]
  },
  {
   "cell_type": "code",
   "execution_count": 15,
   "metadata": {},
   "outputs": [],
   "source": [
    "view_all = driver.find_element_by_id('CafeF_ThiTruongNiemYet_Trang')\n"
   ]
  },
  {
   "cell_type": "code",
   "execution_count": 24,
   "metadata": {},
   "outputs": [],
   "source": [
    "view_all.find_elements_by_tag_name(\"a\")[1].click()"
   ]
  },
  {
   "cell_type": "code",
   "execution_count": 25,
   "metadata": {},
   "outputs": [],
   "source": [
    "all_content = driver.find_element_by_id(\"CafeF_ThiTruongNiemYet_Content\")"
   ]
  },
  {
   "cell_type": "code",
   "execution_count": 28,
   "metadata": {},
   "outputs": [],
   "source": [
    "all_tr = all_content.find_elements_by_tag_name(\"tr\")"
   ]
  },
  {
   "cell_type": "code",
   "execution_count": 49,
   "metadata": {},
   "outputs": [],
   "source": [
    "urls = []\n",
    "for row in all_tr[1:]:\n",
    "    td = row.find_elements_by_tag_name(\"td\")[1]\n",
    "    a = td.find_element_by_tag_name(\"a\")\n",
    "    href = a.get_attribute('href')\n",
    "    urls.append(href)"
   ]
  },
  {
   "cell_type": "code",
   "execution_count": 50,
   "metadata": {},
   "outputs": [
    {
     "data": {
      "text/plain": [
       "2376"
      ]
     },
     "execution_count": 50,
     "metadata": {},
     "output_type": "execute_result"
    }
   ],
   "source": [
    "len(urls)"
   ]
  },
  {
   "cell_type": "code",
   "execution_count": 58,
   "metadata": {},
   "outputs": [],
   "source": [
    "with open(\"urls.txt\", \"w+\") as text_file:\n",
    "    for url in urls:\n",
    "        text_file.writelines(url + \"\\n\")"
   ]
  },
  {
   "cell_type": "code",
   "execution_count": 2,
   "metadata": {},
   "outputs": [],
   "source": [
    "urls = []\n",
    "with open(\"urls.txt\", \"r\") as text_file:\n",
    "    urls = text_file.readlines()"
   ]
  },
  {
   "cell_type": "code",
   "execution_count": null,
   "metadata": {},
   "outputs": [],
   "source": []
  },
  {
   "cell_type": "code",
   "execution_count": 18,
   "metadata": {},
   "outputs": [],
   "source": [
    "url = urls[1][:-1]"
   ]
  },
  {
   "cell_type": "code",
   "execution_count": 48,
   "metadata": {},
   "outputs": [
    {
     "name": "stderr",
     "output_type": "stream",
     "text": [
      "100%|██████████████████████████████████████████████████████████████████████████████| 2376/2376 [42:21<00:00,  1.07s/it]\n"
     ]
    }
   ],
   "source": [
    "filtered_urls = []\n",
    "for url in tqdm(urls):\n",
    "#     driver.get(url[:-1])\n",
    "#     eps_info = driver.find_elements_by_class_name('dltl-other')\n",
    "    page = requests.get(url[:-1])\n",
    "    soup = bs4.BeautifulSoup(page.text, 'html.parser')\n",
    "    eps_info = soup.findAll(\"div\", {\"class\": \"dltl-other\"})\n",
    "    \n",
    "    if len(eps_info) > 0:\n",
    "        filtered_urls.append(url[:-1])\n",
    "        "
   ]
  },
  {
   "cell_type": "code",
   "execution_count": 49,
   "metadata": {},
   "outputs": [
    {
     "data": {
      "text/plain": [
       "2032"
      ]
     },
     "execution_count": 49,
     "metadata": {},
     "output_type": "execute_result"
    }
   ],
   "source": [
    "len(filtered_urls)"
   ]
  },
  {
   "cell_type": "code",
   "execution_count": 35,
   "metadata": {},
   "outputs": [],
   "source": [
    "soup = bs4.BeautifulSoup(page.text, 'html.parser')"
   ]
  },
  {
   "cell_type": "code",
   "execution_count": 36,
   "metadata": {},
   "outputs": [],
   "source": [
    "eps_info = soup.findAll(\"div\", {\"class\": \"dltl-other\"})"
   ]
  },
  {
   "cell_type": "code",
   "execution_count": 47,
   "metadata": {},
   "outputs": [
    {
     "data": {
      "text/plain": [
       "1"
      ]
     },
     "execution_count": 47,
     "metadata": {},
     "output_type": "execute_result"
    }
   ],
   "source": [
    "len(eps_info)"
   ]
  },
  {
   "cell_type": "code",
   "execution_count": 52,
   "metadata": {},
   "outputs": [],
   "source": [
    "with open(\"filtered_urls.txt\", \"w+\") as text_file:\n",
    "    for url in filtered_urls:\n",
    "        text_file.writelines(url + \"\\n\")"
   ]
  },
  {
   "cell_type": "code",
   "execution_count": null,
   "metadata": {},
   "outputs": [],
   "source": []
  },
  {
   "cell_type": "code",
   "execution_count": null,
   "metadata": {},
   "outputs": [],
   "source": []
  },
  {
   "cell_type": "code",
   "execution_count": null,
   "metadata": {},
   "outputs": [],
   "source": []
  }
 ],
 "metadata": {
  "kernelspec": {
   "display_name": "Python 3",
   "language": "python",
   "name": "python3"
  },
  "language_info": {
   "codemirror_mode": {
    "name": "ipython",
    "version": 3
   },
   "file_extension": ".py",
   "mimetype": "text/x-python",
   "name": "python",
   "nbconvert_exporter": "python",
   "pygments_lexer": "ipython3",
   "version": "3.6.10"
  }
 },
 "nbformat": 4,
 "nbformat_minor": 4
}
